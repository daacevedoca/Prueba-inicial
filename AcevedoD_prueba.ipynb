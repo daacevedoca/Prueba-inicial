{
  "nbformat": 4,
  "nbformat_minor": 0,
  "metadata": {
    "colab": {
      "provenance": [],
      "authorship_tag": "ABX9TyOqS/YT7nOnrdxUXmNkrfH7",
      "include_colab_link": true
    },
    "kernelspec": {
      "name": "python3",
      "display_name": "Python 3"
    },
    "language_info": {
      "name": "python"
    }
  },
  "cells": [
    {
      "cell_type": "markdown",
      "metadata": {
        "id": "view-in-github",
        "colab_type": "text"
      },
      "source": [
        "<a href=\"https://colab.research.google.com/github/daacevedoca/Prueba-inicial/blob/main/AcevedoD_prueba.ipynb\" target=\"_parent\"><img src=\"https://colab.research.google.com/assets/colab-badge.svg\" alt=\"Open In Colab\"/></a>"
      ]
    },
    {
      "cell_type": "code",
      "execution_count": 1,
      "metadata": {
        "colab": {
          "base_uri": "https://localhost:8080/"
        },
        "id": "Rc7SAIV32Jd0",
        "outputId": "0db1c827-445b-4cf0-bb09-759e3ac53626"
      },
      "outputs": [
        {
          "output_type": "stream",
          "name": "stdout",
          "text": [
            "hola mundo \n"
          ]
        }
      ],
      "source": [
        "print (\"buenos dias mundo \")"
      ]
    },
    {
      "cell_type": "markdown",
      "source": [
        "# Primer ejercicio\n",
        "\n",
        "## subtitulo\n",
        "\n",
        "sin nada\n"
      ],
      "metadata": {
        "id": "2JFQ_9lU3tYY"
      }
    },
    {
      "cell_type": "markdown",
      "source": [
        "# Sección nueva"
      ],
      "metadata": {
        "id": "oEUskD9S4nT4"
      }
    },
    {
      "cell_type": "markdown",
      "source": [
        "# Segundo ejercicio"
      ],
      "metadata": {
        "id": "plFMUs1r4Rfg"
      }
    },
    {
      "cell_type": "code",
      "source": [
        "print (\"buenos dias, David\")"
      ],
      "metadata": {
        "colab": {
          "base_uri": "https://localhost:8080/"
        },
        "id": "n7Hqq2JD4bJw",
        "outputId": "8df45282-38e6-40f6-e595-9eddcedf9d6e"
      },
      "execution_count": 3,
      "outputs": [
        {
          "output_type": "stream",
          "name": "stdout",
          "text": [
            "hola, David\n"
          ]
        }
      ]
    }
  ]
}